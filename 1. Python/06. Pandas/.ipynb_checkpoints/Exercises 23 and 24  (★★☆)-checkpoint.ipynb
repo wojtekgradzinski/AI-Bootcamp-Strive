{
 "cells": [
  {
   "cell_type": "code",
   "execution_count": 4,
   "metadata": {},
   "outputs": [],
   "source": [
    "import pandas as pd \n",
    "import numpy as np"
   ]
  },
  {
   "cell_type": "markdown",
   "metadata": {},
   "source": [
    "**23.** Given a DataFrame of numeric values, say\n",
    "```python\n",
    "df = pd.DataFrame(np.random.random(size=(5, 3))) # a 5x3 frame of float values\n",
    "```\n",
    "\n",
    "how do you subtract the row mean from each element in the row?"
   ]
  },
  {
   "cell_type": "code",
   "execution_count": 27,
   "metadata": {
    "scrolled": true
   },
   "outputs": [],
   "source": [
    "df = pd.DataFrame(np.random.random(size=(5, 3))) # a 5x3 frame of float values\n",
    "\n",
    "new_df = df.sub(df.mean(axis=1), axis=0)\n"
   ]
  },
  {
   "cell_type": "markdown",
   "metadata": {},
   "source": [
    "**24.** Suppose you have DataFrame with 10 columns of real numbers, for example:\n",
    "\n",
    "```python\n",
    "df = pd.DataFrame(np.random.random(size=(5, 10)), columns=list('abcdefghij'))\n",
    "```\n",
    "Which column of numbers has the smallest sum? (Find that column's label.)"
   ]
  },
  {
   "cell_type": "code",
   "execution_count": 60,
   "metadata": {
    "scrolled": true
   },
   "outputs": [
    {
     "name": "stdout",
     "output_type": "stream",
     "text": [
      "          a         b         c         d         e         f         g  \\\n",
      "0  0.568080  0.348228  0.593208  0.975998  0.066874  0.297147  0.770812   \n",
      "1  0.294140  0.213308  0.523810  0.554444  0.055961  0.363962  0.599793   \n",
      "2  0.079187  0.639999  0.271291  0.298648  0.875479  0.263542  0.084244   \n",
      "3  0.253440  0.579653  0.956661  0.158972  0.103620  0.663538  0.608230   \n",
      "4  0.408920  0.631132  0.380536  0.969112  0.681340  0.267331  0.136287   \n",
      "\n",
      "          h         i         j  \n",
      "0  0.586188  0.373078  0.062763  \n",
      "1  0.511877  0.110565  0.447887  \n",
      "2  0.744431  0.480058  0.065795  \n",
      "3  0.022966  0.089324  0.567370  \n",
      "4  0.997382  0.691919  0.030988  \n",
      "a    1.603767\n",
      "b    2.412321\n",
      "c    2.725506\n",
      "d    2.957174\n",
      "e    1.783275\n",
      "f    1.855520\n",
      "g    2.199366\n",
      "h    2.862844\n",
      "i    1.744943\n",
      "j    1.174803\n",
      "dtype: float64\n"
     ]
    },
    {
     "data": {
      "text/plain": [
       "'j'"
      ]
     },
     "execution_count": 60,
     "metadata": {},
     "output_type": "execute_result"
    }
   ],
   "source": [
    "df = pd.DataFrame(np.random.random(size=(5, 10)), columns=list('abcdefghij'))\n",
    "\n",
    "print(df)\n",
    "s = df.sum()\n",
    "print(s)\n",
    "\n",
    "s[s == s.min()].index[0]\n"
   ]
  },
  {
   "cell_type": "code",
   "execution_count": null,
   "metadata": {},
   "outputs": [],
   "source": []
  }
 ],
 "metadata": {
  "kernelspec": {
   "display_name": "Python 3",
   "language": "python",
   "name": "python3"
  },
  "language_info": {
   "codemirror_mode": {
    "name": "ipython",
    "version": 3
   },
   "file_extension": ".py",
   "mimetype": "text/x-python",
   "name": "python",
   "nbconvert_exporter": "python",
   "pygments_lexer": "ipython3",
   "version": "3.8.5"
  }
 },
 "nbformat": 4,
 "nbformat_minor": 5
}
