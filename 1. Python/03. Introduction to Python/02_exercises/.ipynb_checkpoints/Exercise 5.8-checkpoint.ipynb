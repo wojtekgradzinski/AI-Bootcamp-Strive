{
 "cells": [
  {
   "cell_type": "code",
   "execution_count": null,
   "metadata": {},
   "outputs": [],
   "source": [
    "def fourDigi():\n",
    "    for A in range(1,9):\n",
    "        for B in range(1,9):\n",
    "            for C in range(1,9):\n",
    "                 for D in range(1,9):\n",
    "                    ABCD = A*1000 + B*100 + C*10 + D\n",
    "                    DCBA = D*1000 + C*100 + B*10 + A\n",
    "                    if DCBA==4*ABCD:\n",
    "                        print('A = ' + str(A))\n",
    "                        print('B = ' + str(B))\n",
    "                        print('C = ' + str(C))\n",
    "                        print('D = ' + str(D))\n",
    "                        break \n"
   ]
  }
 ],
 "metadata": {
  "kernelspec": {
   "display_name": "Python 3",
   "language": "python",
   "name": "python3"
  },
  "language_info": {
   "codemirror_mode": {
    "name": "ipython",
    "version": 3
   },
   "file_extension": ".py",
   "mimetype": "text/x-python",
   "name": "python",
   "nbconvert_exporter": "python",
   "pygments_lexer": "ipython3",
   "version": "3.8.5"
  }
 },
 "nbformat": 4,
 "nbformat_minor": 4
}
