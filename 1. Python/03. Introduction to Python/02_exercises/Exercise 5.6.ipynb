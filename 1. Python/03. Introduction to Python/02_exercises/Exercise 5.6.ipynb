{
 "cells": [
  {
   "cell_type": "code",
   "execution_count": 1,
   "metadata": {},
   "outputs": [],
   "source": [
    "def prime(a):\n",
    "    if a<3:\n",
    "        print('No prime number')\n",
    "    else:\n",
    "        print(2)\n",
    "        for i in range (3,a):\n",
    "            #print(i)\n",
    "            for j in range(2,i):\n",
    "                #print(j)\n",
    "                if i%j==0:\n",
    "                    break\n",
    "                if j==i-1:\n",
    "                    print(i)"
   ]
  },
  {
   "cell_type": "code",
   "execution_count": null,
   "metadata": {},
   "outputs": [],
   "source": []
  }
 ],
 "metadata": {
  "kernelspec": {
   "display_name": "Python 3",
   "language": "python",
   "name": "python3"
  },
  "language_info": {
   "codemirror_mode": {
    "name": "ipython",
    "version": 3
   },
   "file_extension": ".py",
   "mimetype": "text/x-python",
   "name": "python",
   "nbconvert_exporter": "python",
   "pygments_lexer": "ipython3",
   "version": "3.8.5"
  }
 },
 "nbformat": 4,
 "nbformat_minor": 4
}
